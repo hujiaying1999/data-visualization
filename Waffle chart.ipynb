{
 "cells": [
  {
   "cell_type": "code",
   "execution_count": 1,
   "id": "1d1651e5",
   "metadata": {},
   "outputs": [],
   "source": [
    "import pandas as pd"
   ]
  },
  {
   "cell_type": "markdown",
   "id": "39d00c0a",
   "metadata": {},
   "source": [
    "# Waffle chart - Offer distribution (offer/reject/waiting) of US/UK/HK"
   ]
  },
  {
   "cell_type": "markdown",
   "id": "bc4efed9",
   "metadata": {},
   "source": [
    "## extract the data needed"
   ]
  },
  {
   "cell_type": "code",
   "execution_count": 2,
   "id": "7038b52a",
   "metadata": {},
   "outputs": [
    {
     "name": "stderr",
     "output_type": "stream",
     "text": [
      "/Users/hujiaying/opt/anaconda3/lib/python3.8/site-packages/IPython/core/interactiveshell.py:3165: DtypeWarning: Columns (6) have mixed types.Specify dtype option on import or set low_memory=False.\n",
      "  has_raised = await self.run_ast_nodes(code_ast.body, cell_name,\n"
     ]
    }
   ],
   "source": [
    "df = pd.read_csv('index_new_time.csv')"
   ]
  },
  {
   "cell_type": "code",
   "execution_count": 3,
   "id": "97db99df",
   "metadata": {},
   "outputs": [
    {
     "data": {
      "text/plain": [
       "Index(['Unnamed: 0', 'Unnamed: 0.1', 'case', 'Unnamed: 0.1.1',\n",
       "       'Unnamed: 0.1.1.1', 'id', 'uniqid', 'schoolname', 'professional',\n",
       "       'countries', 'sid', 'pid', 'nid', 'offer_id', 'uid', 'degree',\n",
       "       'degree_other', 'apply_results', 'apply_lang', 'year', 'timestamp',\n",
       "       'updatetime', 'time_year', 'time_month', 'time_day', 'semester',\n",
       "       'notice_time', 'vieworder', 'state', 'urls', 'toefl', 'gre', 'ielts',\n",
       "       'ptea', 'sub', 'gmat', 'undergraduate_subject', 'undergraduate_sid',\n",
       "       'undergraduate_gpa', 'graduate_subject', 'case.1'],\n",
       "      dtype='object')"
      ]
     },
     "execution_count": 3,
     "metadata": {},
     "output_type": "execute_result"
    }
   ],
   "source": [
    "df.columns"
   ]
  },
  {
   "cell_type": "code",
   "execution_count": 4,
   "id": "9380d86d",
   "metadata": {},
   "outputs": [
    {
     "data": {
      "text/plain": [
       "0        1\n",
       "1        4\n",
       "2        5\n",
       "3        5\n",
       "4        4\n",
       "        ..\n",
       "96071    3\n",
       "96072    5\n",
       "96073    5\n",
       "96074    4\n",
       "96075    1\n",
       "Name: apply_results, Length: 96076, dtype: int64"
      ]
     },
     "execution_count": 4,
     "metadata": {},
     "output_type": "execute_result"
    }
   ],
   "source": [
    "df['apply_results']"
   ]
  },
  {
   "cell_type": "code",
   "execution_count": 5,
   "id": "d62948f0",
   "metadata": {},
   "outputs": [
    {
     "data": {
      "text/plain": [
       "1    38993\n",
       "3    32102\n",
       "4    14588\n",
       "2     8335\n",
       "5     2057\n",
       "0        1\n",
       "Name: apply_results, dtype: int64"
      ]
     },
     "execution_count": 5,
     "metadata": {},
     "output_type": "execute_result"
    }
   ],
   "source": [
    "df.apply_results.value_counts()"
   ]
  },
  {
   "cell_type": "markdown",
   "id": "a4ab4e85",
   "metadata": {},
   "source": [
    "### recode the apply_results"
   ]
  },
  {
   "cell_type": "code",
   "execution_count": 6,
   "id": "26069b8c",
   "metadata": {},
   "outputs": [],
   "source": [
    "df['apply_results'].replace(4,0,inplace=True)"
   ]
  },
  {
   "cell_type": "code",
   "execution_count": 7,
   "id": "b076c9c5",
   "metadata": {},
   "outputs": [],
   "source": [
    "df['apply_results'].replace([1,2,3],1,inplace=True)"
   ]
  },
  {
   "cell_type": "code",
   "execution_count": 8,
   "id": "761c6bb6",
   "metadata": {},
   "outputs": [],
   "source": [
    "df['apply_results'].replace(5,2,inplace=True)"
   ]
  },
  {
   "cell_type": "code",
   "execution_count": 9,
   "id": "54dc2305",
   "metadata": {},
   "outputs": [
    {
     "data": {
      "text/plain": [
       "1    79430\n",
       "0    14589\n",
       "2     2057\n",
       "Name: apply_results, dtype: int64"
      ]
     },
     "execution_count": 9,
     "metadata": {},
     "output_type": "execute_result"
    }
   ],
   "source": [
    "#0-拒绝；1-offer；2-waiting list\n",
    "df.apply_results.value_counts()"
   ]
  },
  {
   "cell_type": "markdown",
   "id": "31d59ee3",
   "metadata": {},
   "source": [
    "### after covid-19, the apply_results of different countries"
   ]
  },
  {
   "cell_type": "code",
   "execution_count": 10,
   "id": "b4f3f5fa",
   "metadata": {},
   "outputs": [
    {
     "data": {
      "text/plain": [
       "countries  apply_results\n",
       "荷兰         1                454\n",
       "           0                 79\n",
       "西班牙        1                 54\n",
       "           0                 15\n",
       "           2                  7\n",
       "韩国         0                  2\n",
       "香港         1                860\n",
       "           0                 86\n",
       "           2                 15\n",
       "马来西亚       1                  1\n",
       "Name: apply_results, dtype: int64"
      ]
     },
     "execution_count": 10,
     "metadata": {},
     "output_type": "execute_result"
    }
   ],
   "source": [
    "df[\n",
    "    (   df['time_year'] == 2020) & \n",
    "        ((df['time_month'] >= 9) & \n",
    "        (df['time_month'] <= 12)    )     |\n",
    "    (   df['time_year'] == 2021) & \n",
    "        ((df['time_month'] >= 1) & \n",
    "        (df['time_month'] <= 8)    )     \n",
    "\n",
    "].groupby(by='countries').apply_results.value_counts().tail(10)"
   ]
  },
  {
   "cell_type": "code",
   "execution_count": 11,
   "id": "65a2ebcc",
   "metadata": {},
   "outputs": [
    {
     "name": "stdout",
     "output_type": "stream",
     "text": [
      "apply_results      0      1     2    All\n",
      "countries                               \n",
      "丹麦               197    701     7    905\n",
      "以色列                1      6     0      7\n",
      "其他                 0     12     0     12\n",
      "冰岛                 0      3     0      3\n",
      "加拿大             1425   4209    62   5696\n",
      "匈牙利                3     11     1     15\n",
      "台湾                 0      5     0      5\n",
      "奥地利                4     11     0     15\n",
      "德国               126    311     3    440\n",
      "意大利              115    581     7    703\n",
      "挪威                71    149     3    223\n",
      "捷克                 1      9     0     10\n",
      "新加坡              487   3658    24   4169\n",
      "新西兰                4     80     0     84\n",
      "日本                74    293     3    370\n",
      "欧洲                 0     65     0     65\n",
      "比利时               74    481     3    558\n",
      "沙特阿拉伯              4     13     0     17\n",
      "法国               108    262     4    374\n",
      "波兰                 1      0     0      1\n",
      "港/澳/台              0    705     0    705\n",
      "澳大利亚              63   1790     8   1861\n",
      "澳洲/新西兰             0     12     0     12\n",
      "澳门                10     56     2     68\n",
      "爱尔兰                8    148     1    157\n",
      "瑞典               117    966   106   1189\n",
      "瑞士               319    586     8    913\n",
      "美国              7777  30867  1435  40079\n",
      "芬兰               111    364     4    479\n",
      "英国              2107  11497   117  13721\n",
      "荷兰               412   2880     6   3298\n",
      "西班牙               42    254    16    312\n",
      "阿联酋                5      0     0      5\n",
      "韩国                 3      4     0      7\n",
      "香港               646  16976   194  17816\n",
      "马来西亚               0      4     0      4\n",
      "All            14315  77969  2014  94298\n"
     ]
    }
   ],
   "source": [
    "print(pd.crosstab(df['countries'],df['apply_results'],margins=True)) "
   ]
  },
  {
   "cell_type": "markdown",
   "id": "0da92d0e",
   "metadata": {},
   "source": [
    "## take US,UK,HK as example, and visualize the data"
   ]
  },
  {
   "cell_type": "code",
   "execution_count": 35,
   "id": "506ac726",
   "metadata": {
    "collapsed": true
   },
   "outputs": [
    {
     "name": "stdout",
     "output_type": "stream",
     "text": [
      "Collecting pywaffle\n",
      "  Downloading pywaffle-0.6.3-py2.py3-none-any.whl (526 kB)\n",
      "\u001b[K     |████████████████████████████████| 526 kB 2.4 MB/s eta 0:00:01\n",
      "\u001b[?25hRequirement already satisfied: matplotlib in /Users/hujiaying/opt/anaconda3/lib/python3.8/site-packages (from pywaffle) (3.3.4)\n",
      "Requirement already satisfied: cycler>=0.10 in /Users/hujiaying/opt/anaconda3/lib/python3.8/site-packages (from matplotlib->pywaffle) (0.10.0)\n",
      "Requirement already satisfied: pyparsing!=2.0.4,!=2.1.2,!=2.1.6,>=2.0.3 in /Users/hujiaying/opt/anaconda3/lib/python3.8/site-packages (from matplotlib->pywaffle) (2.4.7)\n",
      "Requirement already satisfied: pillow>=6.2.0 in /Users/hujiaying/opt/anaconda3/lib/python3.8/site-packages (from matplotlib->pywaffle) (8.2.0)\n",
      "Requirement already satisfied: python-dateutil>=2.1 in /Users/hujiaying/opt/anaconda3/lib/python3.8/site-packages (from matplotlib->pywaffle) (2.8.1)\n",
      "Requirement already satisfied: kiwisolver>=1.0.1 in /Users/hujiaying/opt/anaconda3/lib/python3.8/site-packages (from matplotlib->pywaffle) (1.3.1)\n",
      "Requirement already satisfied: numpy>=1.15 in /Users/hujiaying/opt/anaconda3/lib/python3.8/site-packages (from matplotlib->pywaffle) (1.20.1)\n",
      "Requirement already satisfied: six in /Users/hujiaying/opt/anaconda3/lib/python3.8/site-packages (from cycler>=0.10->matplotlib->pywaffle) (1.15.0)\n",
      "Installing collected packages: pywaffle\n",
      "Successfully installed pywaffle-0.6.3\n",
      "Note: you may need to restart the kernel to use updated packages.\n"
     ]
    }
   ],
   "source": [
    "#pip install pywaffle"
   ]
  },
  {
   "cell_type": "code",
   "execution_count": 13,
   "id": "0159006d",
   "metadata": {},
   "outputs": [],
   "source": [
    "import matplotlib.pyplot as plt\n",
    "from pywaffle import Waffle"
   ]
  },
  {
   "cell_type": "code",
   "execution_count": 14,
   "id": "2069546b",
   "metadata": {},
   "outputs": [],
   "source": [
    "import pandas as pd\n",
    "data = pd.DataFrame(\n",
    "    {\n",
    "        'labels': ['Offer', 'Reject', 'Waiting'],\n",
    "        'America': [30867,7777,1435],\n",
    "        'England': [11497,2107,117],\n",
    "        'Hong Kong': [16976,646,194],\n",
    "    },\n",
    ").set_index('labels')"
   ]
  },
  {
   "cell_type": "code",
   "execution_count": 15,
   "id": "8db881f6",
   "metadata": {},
   "outputs": [
    {
     "name": "stderr",
     "output_type": "stream",
     "text": [
      "/Users/hujiaying/opt/anaconda3/lib/python3.8/site-packages/pywaffle/waffle.py:394: MatplotlibDeprecationWarning: Passing non-integers as three-element position specification is deprecated since 3.3 and will be removed two minor releases later.\n",
      "  self.ax = self.add_subplot(loc, aspect=\"equal\")\n"
     ]
    },
    {
     "data": {
      "image/png": "[encoded data removed]",
      "text/plain": [
       "<Waffle size 648x360 with 3 Axes>"
      ]
     },
     "metadata": {
      "needs_background": "light"
     },
     "output_type": "display_data"
    }
   ],
   "source": [
    "fig = plt.figure(\n",
    "    FigureClass=Waffle,\n",
    "    plots={\n",
    "        '311': {\n",
    "            'values': data['America'] / 280,\n",
    "            'labels': ['{} {:.1f}%'.format(k, (v/(sum(data['America']))*100)) for k, v in data['America'].items()],\n",
    "            'legend': {\n",
    "                'loc': 'upper left',\n",
    "                'bbox_to_anchor': (1.05, 1),\n",
    "                'fontsize': 8\n",
    "            },\n",
    "            'title': {\n",
    "                'label': '2020.9 - 2021.8 America',\n",
    "                'loc': 'left'\n",
    "            }\n",
    "        },\n",
    "        '312': {\n",
    "            'values': data['Hong Kong'] / 280,\n",
    "            'labels': ['{} {:.1f}%'.format(k, (v/(sum(data['Hong Kong']))*100)) for k, v in data['Hong Kong'].items()],\n",
    "            'legend': {\n",
    "                'loc': 'upper left',\n",
    "                'bbox_to_anchor': (1.2, 1),\n",
    "                'fontsize': 8\n",
    "            },\n",
    "            'title': {\n",
    "                'label': '2020.9 - 2021.8 Hong Kong',\n",
    "                'loc': 'left'\n",
    "            }\n",
    "        },\n",
    "        '313': {\n",
    "            'values': data['England'] / 280,\n",
    "            'labels': ['{} {:.1f}%'.format(k, (v/(sum(data['England']))*100)) for k, v in data['England'].items()],\n",
    "            'legend': {\n",
    "                'loc': 'upper left',\n",
    "                'bbox_to_anchor': (1.3, 1),\n",
    "                'fontsize': 8\n",
    "            },\n",
    "            'title': {\n",
    "                'label': '2020.9 - 2021.8 England',\n",
    "                'loc': 'left'\n",
    "            }\n",
    "        },\n",
    "    },\n",
    "    rows=5,\n",
    "    colors=(\"#2196f3\", \"#ff5252\", \"#999999\"),  # shared parameter among subplots\n",
    "    figsize=(9, 5)  # figsize is a parameter of plt.figure\n",
    ")"
   ]
  },
  {
   "cell_type": "code",
   "execution_count": null,
   "id": "50ac877f",
   "metadata": {},
   "outputs": [],
   "source": []
  }
 ],
 "metadata": {
  "kernelspec": {
   "display_name": "Python 3",
   "language": "python",
   "name": "python3"
  },
  "language_info": {
   "codemirror_mode": {
    "name": "ipython",
    "version": 3
   },
   "file_extension": ".py",
   "mimetype": "text/x-python",
   "name": "python",
   "nbconvert_exporter": "python",
   "pygments_lexer": "ipython3",
   "version": "3.8.8"
  }
 },
 "nbformat": 4,
 "nbformat_minor": 5
}
