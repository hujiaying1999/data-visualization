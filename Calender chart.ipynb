{
 "cells": [
  {
   "cell_type": "code",
   "execution_count": 1,
   "id": "1d1651e5",
   "metadata": {},
   "outputs": [],
   "source": [
    "import pandas as pd"
   ]
  },
  {
   "cell_type": "markdown",
   "id": "bee371d1",
   "metadata": {},
   "source": [
    "# Calender chart - number of offer noticed each day of US, UK, HK"
   ]
  },
  {
   "cell_type": "code",
   "execution_count": 16,
   "id": "0b17dc2e",
   "metadata": {},
   "outputs": [
    {
     "name": "stderr",
     "output_type": "stream",
     "text": [
      "/Users/hujiaying/opt/anaconda3/lib/python3.8/site-packages/IPython/core/interactiveshell.py:3165: DtypeWarning: Columns (6) have mixed types.Specify dtype option on import or set low_memory=False.\n",
      "  has_raised = await self.run_ast_nodes(code_ast.body, cell_name,\n"
     ]
    }
   ],
   "source": [
    "import pandas as pd\n",
    "df = pd.read_csv('index_new_time.csv')"
   ]
  },
  {
   "cell_type": "markdown",
   "id": "b16d1dc7",
   "metadata": {},
   "source": [
    "## extract data of US"
   ]
  },
  {
   "cell_type": "code",
   "execution_count": 17,
   "id": "b0e3ef0b",
   "metadata": {},
   "outputs": [],
   "source": [
    "source = df[\n",
    "    (df['countries'] == '美国')             &  \n",
    "    \n",
    "    (   (   (df['time_year'] == 2020) & \n",
    "            ((df['time_month'] >= 9) & \n",
    "            (df['time_month'] <= 12))   )  |\n",
    "        (   (df['time_year'] == 2021) & \n",
    "            ((df['time_month'] >= 1) & \n",
    "            (df['time_month'] <= 8))    )  )\n",
    "\n",
    "]"
   ]
  },
  {
   "cell_type": "code",
   "execution_count": 18,
   "id": "42aeda24",
   "metadata": {},
   "outputs": [
    {
     "name": "stderr",
     "output_type": "stream",
     "text": [
      "<ipython-input-18-2584b28e64ed>:2: SettingWithCopyWarning: \n",
      "A value is trying to be set on a copy of a slice from a DataFrame.\n",
      "Try using .loc[row_indexer,col_indexer] = value instead\n",
      "\n",
      "See the caveats in the documentation: https://pandas.pydata.org/pandas-docs/stable/user_guide/indexing.html#returning-a-view-versus-a-copy\n",
      "  source['notice_time']=pd.to_datetime(source['notice_time'],unit='s')\n"
     ]
    }
   ],
   "source": [
    "import time\n",
    "source['notice_time']=pd.to_datetime(source['notice_time'],unit='s')"
   ]
  },
  {
   "cell_type": "code",
   "execution_count": 19,
   "id": "a537fcaf",
   "metadata": {},
   "outputs": [
    {
     "data": {
      "text/plain": [
       "120     2021-04-12 16:00:00\n",
       "121     2021-04-04 16:00:00\n",
       "124     2021-03-16 16:00:00\n",
       "125     2021-02-16 16:00:00\n",
       "126     2021-03-29 16:00:00\n",
       "                ...        \n",
       "33873   2020-10-01 16:00:00\n",
       "33881   2020-09-08 16:00:00\n",
       "33884   2020-09-25 16:00:00\n",
       "33959   2020-09-05 16:00:00\n",
       "34150   2021-02-27 16:00:00\n",
       "Name: notice_time, Length: 1764, dtype: datetime64[ns]"
      ]
     },
     "execution_count": 19,
     "metadata": {},
     "output_type": "execute_result"
    }
   ],
   "source": [
    "source['notice_time']"
   ]
  },
  {
   "cell_type": "code",
   "execution_count": 20,
   "id": "8a9e9325",
   "metadata": {},
   "outputs": [
    {
     "name": "stderr",
     "output_type": "stream",
     "text": [
      "<ipython-input-20-c1d5f93a67dc>:1: SettingWithCopyWarning: \n",
      "A value is trying to be set on a copy of a slice from a DataFrame.\n",
      "Try using .loc[row_indexer,col_indexer] = value instead\n",
      "\n",
      "See the caveats in the documentation: https://pandas.pydata.org/pandas-docs/stable/user_guide/indexing.html#returning-a-view-versus-a-copy\n",
      "  source['notice_time'] = source['notice_time'].apply(lambda x: x.strftime('%Y-%m-%d'))\n"
     ]
    }
   ],
   "source": [
    "source['notice_time'] = source['notice_time'].apply(lambda x: x.strftime('%Y-%m-%d'))"
   ]
  },
  {
   "cell_type": "code",
   "execution_count": 21,
   "id": "0e8550b0",
   "metadata": {},
   "outputs": [
    {
     "data": {
      "text/plain": [
       "120      2021-04-12\n",
       "121      2021-04-04\n",
       "124      2021-03-16\n",
       "125      2021-02-16\n",
       "126      2021-03-29\n",
       "            ...    \n",
       "33873    2020-10-01\n",
       "33881    2020-09-08\n",
       "33884    2020-09-25\n",
       "33959    2020-09-05\n",
       "34150    2021-02-27\n",
       "Name: notice_time, Length: 1764, dtype: object"
      ]
     },
     "execution_count": 21,
     "metadata": {},
     "output_type": "execute_result"
    }
   ],
   "source": [
    "source['notice_time']"
   ]
  },
  {
   "cell_type": "code",
   "execution_count": 22,
   "id": "edf5b1c7",
   "metadata": {},
   "outputs": [],
   "source": [
    "new = source[(source['countries'] == '美国')\n",
    "      ]['notice_time'].value_counts()   #这里是所有类型的offer通知"
   ]
  },
  {
   "cell_type": "code",
   "execution_count": 23,
   "id": "53e014fd",
   "metadata": {},
   "outputs": [],
   "source": [
    "new = new.to_dict()"
   ]
  },
  {
   "cell_type": "code",
   "execution_count": 24,
   "id": "5e916970",
   "metadata": {},
   "outputs": [
    {
     "data": {
      "text/html": [
       "<div>\n",
       "<style scoped>\n",
       "    .dataframe tbody tr th:only-of-type {\n",
       "        vertical-align: middle;\n",
       "    }\n",
       "\n",
       "    .dataframe tbody tr th {\n",
       "        vertical-align: top;\n",
       "    }\n",
       "\n",
       "    .dataframe thead th {\n",
       "        text-align: right;\n",
       "    }\n",
       "</style>\n",
       "<table border=\"1\" class=\"dataframe\">\n",
       "  <thead>\n",
       "    <tr style=\"text-align: right;\">\n",
       "      <th></th>\n",
       "      <th>date</th>\n",
       "      <th>offers</th>\n",
       "    </tr>\n",
       "  </thead>\n",
       "  <tbody>\n",
       "    <tr>\n",
       "      <th>0</th>\n",
       "      <td>2021-03-01</td>\n",
       "      <td>77</td>\n",
       "    </tr>\n",
       "    <tr>\n",
       "      <th>1</th>\n",
       "      <td>2021-02-24</td>\n",
       "      <td>66</td>\n",
       "    </tr>\n",
       "    <tr>\n",
       "      <th>2</th>\n",
       "      <td>2021-03-09</td>\n",
       "      <td>61</td>\n",
       "    </tr>\n",
       "    <tr>\n",
       "      <th>3</th>\n",
       "      <td>2021-03-02</td>\n",
       "      <td>45</td>\n",
       "    </tr>\n",
       "    <tr>\n",
       "      <th>4</th>\n",
       "      <td>2021-03-12</td>\n",
       "      <td>45</td>\n",
       "    </tr>\n",
       "    <tr>\n",
       "      <th>...</th>\n",
       "      <td>...</td>\n",
       "      <td>...</td>\n",
       "    </tr>\n",
       "    <tr>\n",
       "      <th>181</th>\n",
       "      <td>2021-05-19</td>\n",
       "      <td>1</td>\n",
       "    </tr>\n",
       "    <tr>\n",
       "      <th>182</th>\n",
       "      <td>2020-09-29</td>\n",
       "      <td>1</td>\n",
       "    </tr>\n",
       "    <tr>\n",
       "      <th>183</th>\n",
       "      <td>2020-12-29</td>\n",
       "      <td>1</td>\n",
       "    </tr>\n",
       "    <tr>\n",
       "      <th>184</th>\n",
       "      <td>2021-05-31</td>\n",
       "      <td>1</td>\n",
       "    </tr>\n",
       "    <tr>\n",
       "      <th>185</th>\n",
       "      <td>2021-04-26</td>\n",
       "      <td>1</td>\n",
       "    </tr>\n",
       "  </tbody>\n",
       "</table>\n",
       "<p>186 rows × 2 columns</p>\n",
       "</div>"
      ],
      "text/plain": [
       "           date  offers\n",
       "0    2021-03-01      77\n",
       "1    2021-02-24      66\n",
       "2    2021-03-09      61\n",
       "3    2021-03-02      45\n",
       "4    2021-03-12      45\n",
       "..          ...     ...\n",
       "181  2021-05-19       1\n",
       "182  2020-09-29       1\n",
       "183  2020-12-29       1\n",
       "184  2021-05-31       1\n",
       "185  2021-04-26       1\n",
       "\n",
       "[186 rows x 2 columns]"
      ]
     },
     "execution_count": 24,
     "metadata": {},
     "output_type": "execute_result"
    }
   ],
   "source": [
    "usa_after = pd.DataFrame({'date':new.keys(),'offers':new.values()})\n",
    "usa_after"
   ]
  },
  {
   "cell_type": "code",
   "execution_count": 25,
   "id": "59a92155",
   "metadata": {},
   "outputs": [],
   "source": [
    "usa_after['date'] = pd.to_datetime(usa_after['date'])"
   ]
  },
  {
   "cell_type": "code",
   "execution_count": 26,
   "id": "e4b7ecf9",
   "metadata": {},
   "outputs": [],
   "source": [
    "usa_after['year'] = usa_after['date'].apply(lambda x: x.strftime('%Y'))"
   ]
  },
  {
   "cell_type": "code",
   "execution_count": 27,
   "id": "8191b1e3",
   "metadata": {},
   "outputs": [
    {
     "data": {
      "text/plain": [
       "0      2021\n",
       "1      2021\n",
       "2      2021\n",
       "3      2021\n",
       "4      2021\n",
       "       ... \n",
       "181    2021\n",
       "182    2020\n",
       "183    2020\n",
       "184    2021\n",
       "185    2021\n",
       "Name: year, Length: 186, dtype: object"
      ]
     },
     "execution_count": 27,
     "metadata": {},
     "output_type": "execute_result"
    }
   ],
   "source": [
    "usa_after['year']"
   ]
  },
  {
   "cell_type": "code",
   "execution_count": 28,
   "id": "92ad6fe0",
   "metadata": {},
   "outputs": [
    {
     "data": {
      "text/html": [
       "<div>\n",
       "<style scoped>\n",
       "    .dataframe tbody tr th:only-of-type {\n",
       "        vertical-align: middle;\n",
       "    }\n",
       "\n",
       "    .dataframe tbody tr th {\n",
       "        vertical-align: top;\n",
       "    }\n",
       "\n",
       "    .dataframe thead th {\n",
       "        text-align: right;\n",
       "    }\n",
       "</style>\n",
       "<table border=\"1\" class=\"dataframe\">\n",
       "  <thead>\n",
       "    <tr style=\"text-align: right;\">\n",
       "      <th></th>\n",
       "      <th>date</th>\n",
       "      <th>offers</th>\n",
       "      <th>year</th>\n",
       "    </tr>\n",
       "  </thead>\n",
       "  <tbody>\n",
       "    <tr>\n",
       "      <th>0</th>\n",
       "      <td>2021-03-01</td>\n",
       "      <td>77</td>\n",
       "      <td>2021</td>\n",
       "    </tr>\n",
       "    <tr>\n",
       "      <th>1</th>\n",
       "      <td>2021-02-24</td>\n",
       "      <td>66</td>\n",
       "      <td>2021</td>\n",
       "    </tr>\n",
       "    <tr>\n",
       "      <th>2</th>\n",
       "      <td>2021-03-09</td>\n",
       "      <td>61</td>\n",
       "      <td>2021</td>\n",
       "    </tr>\n",
       "    <tr>\n",
       "      <th>3</th>\n",
       "      <td>2021-03-02</td>\n",
       "      <td>45</td>\n",
       "      <td>2021</td>\n",
       "    </tr>\n",
       "    <tr>\n",
       "      <th>4</th>\n",
       "      <td>2021-03-12</td>\n",
       "      <td>45</td>\n",
       "      <td>2021</td>\n",
       "    </tr>\n",
       "    <tr>\n",
       "      <th>...</th>\n",
       "      <td>...</td>\n",
       "      <td>...</td>\n",
       "      <td>...</td>\n",
       "    </tr>\n",
       "    <tr>\n",
       "      <th>181</th>\n",
       "      <td>2021-05-19</td>\n",
       "      <td>1</td>\n",
       "      <td>2021</td>\n",
       "    </tr>\n",
       "    <tr>\n",
       "      <th>182</th>\n",
       "      <td>2020-09-29</td>\n",
       "      <td>1</td>\n",
       "      <td>2020</td>\n",
       "    </tr>\n",
       "    <tr>\n",
       "      <th>183</th>\n",
       "      <td>2020-12-29</td>\n",
       "      <td>1</td>\n",
       "      <td>2020</td>\n",
       "    </tr>\n",
       "    <tr>\n",
       "      <th>184</th>\n",
       "      <td>2021-05-31</td>\n",
       "      <td>1</td>\n",
       "      <td>2021</td>\n",
       "    </tr>\n",
       "    <tr>\n",
       "      <th>185</th>\n",
       "      <td>2021-04-26</td>\n",
       "      <td>1</td>\n",
       "      <td>2021</td>\n",
       "    </tr>\n",
       "  </tbody>\n",
       "</table>\n",
       "<p>186 rows × 3 columns</p>\n",
       "</div>"
      ],
      "text/plain": [
       "          date  offers  year\n",
       "0   2021-03-01      77  2021\n",
       "1   2021-02-24      66  2021\n",
       "2   2021-03-09      61  2021\n",
       "3   2021-03-02      45  2021\n",
       "4   2021-03-12      45  2021\n",
       "..         ...     ...   ...\n",
       "181 2021-05-19       1  2021\n",
       "182 2020-09-29       1  2020\n",
       "183 2020-12-29       1  2020\n",
       "184 2021-05-31       1  2021\n",
       "185 2021-04-26       1  2021\n",
       "\n",
       "[186 rows x 3 columns]"
      ]
     },
     "execution_count": 28,
     "metadata": {},
     "output_type": "execute_result"
    }
   ],
   "source": [
    "usa_after"
   ]
  },
  {
   "cell_type": "code",
   "execution_count": 29,
   "id": "ff06976d",
   "metadata": {},
   "outputs": [],
   "source": [
    "usa_after.to_csv('usa_after_offers_for_calender.csv')"
   ]
  },
  {
   "cell_type": "markdown",
   "id": "c0036781",
   "metadata": {},
   "source": [
    "## visualize data of US"
   ]
  },
  {
   "cell_type": "code",
   "execution_count": 33,
   "id": "7617d55e",
   "metadata": {
    "scrolled": true
   },
   "outputs": [
    {
     "data": {
      "text/plain": [
       "<matplotlib.colorbar.Colorbar at 0x7f978ac091f0>"
      ]
     },
     "execution_count": 33,
     "metadata": {},
     "output_type": "execute_result"
    },
    {
     "data": {
      "image/png": "[encoded data removed]",
      "text/plain": [
       "<Figure size 1080x720 with 3 Axes>"
      ]
     },
     "metadata": {
      "needs_background": "light"
     },
     "output_type": "display_data"
    }
   ],
   "source": [
    "fig,ax=calmap.calendarplot(df['offers'],\n",
    "                           fig_kws={'figsize': (15,10)}, \n",
    "                           #cmap= 'YlGn',\n",
    "                           #cmap= 'seismic',\n",
    "                           cmap = 'bwr',\n",
    "                           yearlabel_kws={'color':'black', 'fontsize':18}, \n",
    "                           subplot_kws={'title':'2020.9 - 2021.8 : America'},\n",
    "                          #linewidth=0\n",
    "                          )\n",
    "\n",
    "fig.colorbar(ax[0].get_children()[1], ax=ax.ravel().tolist(),orientation='horizontal')"
   ]
  },
  {
   "cell_type": "markdown",
   "id": "c0f10bc2",
   "metadata": {},
   "source": [
    "## extract data of UK"
   ]
  },
  {
   "cell_type": "code",
   "execution_count": 53,
   "id": "ec1fd94d",
   "metadata": {},
   "outputs": [
    {
     "name": "stderr",
     "output_type": "stream",
     "text": [
      "/Users/hujiaying/opt/anaconda3/lib/python3.8/site-packages/IPython/core/interactiveshell.py:3165: DtypeWarning: Columns (6) have mixed types.Specify dtype option on import or set low_memory=False.\n",
      "  has_raised = await self.run_ast_nodes(code_ast.body, cell_name,\n"
     ]
    }
   ],
   "source": [
    "import pandas as pd\n",
    "df = pd.read_csv('index_new_time.csv')"
   ]
  },
  {
   "cell_type": "code",
   "execution_count": 54,
   "id": "5367e73e",
   "metadata": {},
   "outputs": [],
   "source": [
    "source = df[\n",
    "    (df['countries'] == '英国')             &  \n",
    "    \n",
    "    (   (   (df['time_year'] == 2020) & \n",
    "            ((df['time_month'] >= 9) & \n",
    "            (df['time_month'] <= 12))   )  |\n",
    "        (   (df['time_year'] == 2021) & \n",
    "            ((df['time_month'] >= 1) & \n",
    "            (df['time_month'] <= 8))    )  )\n",
    "\n",
    "]"
   ]
  },
  {
   "cell_type": "code",
   "execution_count": 55,
   "id": "09098e80",
   "metadata": {},
   "outputs": [
    {
     "name": "stderr",
     "output_type": "stream",
     "text": [
      "<ipython-input-55-642e7f235d29>:2: SettingWithCopyWarning: \n",
      "A value is trying to be set on a copy of a slice from a DataFrame.\n",
      "Try using .loc[row_indexer,col_indexer] = value instead\n",
      "\n",
      "See the caveats in the documentation: https://pandas.pydata.org/pandas-docs/stable/user_guide/indexing.html#returning-a-view-versus-a-copy\n",
      "  source['notice_time']=pd.to_datetime(source['notice_time'],unit='s')\n"
     ]
    },
    {
     "data": {
      "text/plain": [
       "30      2021-03-22 16:00:00\n",
       "96      2021-07-04 16:00:00\n",
       "123     2021-02-24 16:00:00\n",
       "135     2021-03-24 16:00:00\n",
       "136     2021-06-29 16:00:00\n",
       "                ...        \n",
       "33950   2020-09-08 16:00:00\n",
       "33958   2020-09-03 16:00:00\n",
       "33987   2020-12-08 16:00:00\n",
       "34708   2020-11-17 16:00:00\n",
       "35674   2020-11-17 16:00:00\n",
       "Name: notice_time, Length: 1071, dtype: datetime64[ns]"
      ]
     },
     "execution_count": 55,
     "metadata": {},
     "output_type": "execute_result"
    }
   ],
   "source": [
    "import time\n",
    "source['notice_time']=pd.to_datetime(source['notice_time'],unit='s')\n",
    "source['notice_time']"
   ]
  },
  {
   "cell_type": "code",
   "execution_count": 56,
   "id": "51bdac49",
   "metadata": {},
   "outputs": [
    {
     "name": "stderr",
     "output_type": "stream",
     "text": [
      "<ipython-input-56-a5edf7382907>:1: SettingWithCopyWarning: \n",
      "A value is trying to be set on a copy of a slice from a DataFrame.\n",
      "Try using .loc[row_indexer,col_indexer] = value instead\n",
      "\n",
      "See the caveats in the documentation: https://pandas.pydata.org/pandas-docs/stable/user_guide/indexing.html#returning-a-view-versus-a-copy\n",
      "  source['notice_time'] = source['notice_time'].apply(lambda x: x.strftime('%Y-%m-%d'))\n"
     ]
    },
    {
     "data": {
      "text/plain": [
       "30       2021-03-22\n",
       "96       2021-07-04\n",
       "123      2021-02-24\n",
       "135      2021-03-24\n",
       "136      2021-06-29\n",
       "            ...    \n",
       "33950    2020-09-08\n",
       "33958    2020-09-03\n",
       "33987    2020-12-08\n",
       "34708    2020-11-17\n",
       "35674    2020-11-17\n",
       "Name: notice_time, Length: 1071, dtype: object"
      ]
     },
     "execution_count": 56,
     "metadata": {},
     "output_type": "execute_result"
    }
   ],
   "source": [
    "source['notice_time'] = source['notice_time'].apply(lambda x: x.strftime('%Y-%m-%d'))\n",
    "source['notice_time']"
   ]
  },
  {
   "cell_type": "code",
   "execution_count": 57,
   "id": "56a31b4c",
   "metadata": {},
   "outputs": [],
   "source": [
    "new = source[(source['countries'] == '英国')\n",
    "      ]['notice_time'].value_counts()   #这里是所有类型的offer通知"
   ]
  },
  {
   "cell_type": "code",
   "execution_count": 58,
   "id": "bda9e182",
   "metadata": {},
   "outputs": [],
   "source": [
    "new = new.to_dict()"
   ]
  },
  {
   "cell_type": "code",
   "execution_count": 59,
   "id": "8bc6607f",
   "metadata": {},
   "outputs": [
    {
     "data": {
      "text/html": [
       "<div>\n",
       "<style scoped>\n",
       "    .dataframe tbody tr th:only-of-type {\n",
       "        vertical-align: middle;\n",
       "    }\n",
       "\n",
       "    .dataframe tbody tr th {\n",
       "        vertical-align: top;\n",
       "    }\n",
       "\n",
       "    .dataframe thead th {\n",
       "        text-align: right;\n",
       "    }\n",
       "</style>\n",
       "<table border=\"1\" class=\"dataframe\">\n",
       "  <thead>\n",
       "    <tr style=\"text-align: right;\">\n",
       "      <th></th>\n",
       "      <th>date</th>\n",
       "      <th>offers</th>\n",
       "    </tr>\n",
       "  </thead>\n",
       "  <tbody>\n",
       "    <tr>\n",
       "      <th>0</th>\n",
       "      <td>2021-01-20</td>\n",
       "      <td>18</td>\n",
       "    </tr>\n",
       "    <tr>\n",
       "      <th>1</th>\n",
       "      <td>2020-12-17</td>\n",
       "      <td>16</td>\n",
       "    </tr>\n",
       "    <tr>\n",
       "      <th>2</th>\n",
       "      <td>2021-01-13</td>\n",
       "      <td>15</td>\n",
       "    </tr>\n",
       "    <tr>\n",
       "      <th>3</th>\n",
       "      <td>2020-12-16</td>\n",
       "      <td>15</td>\n",
       "    </tr>\n",
       "    <tr>\n",
       "      <th>4</th>\n",
       "      <td>2020-12-02</td>\n",
       "      <td>15</td>\n",
       "    </tr>\n",
       "    <tr>\n",
       "      <th>...</th>\n",
       "      <td>...</td>\n",
       "      <td>...</td>\n",
       "    </tr>\n",
       "    <tr>\n",
       "      <th>213</th>\n",
       "      <td>2021-05-30</td>\n",
       "      <td>1</td>\n",
       "    </tr>\n",
       "    <tr>\n",
       "      <th>214</th>\n",
       "      <td>2021-06-02</td>\n",
       "      <td>1</td>\n",
       "    </tr>\n",
       "    <tr>\n",
       "      <th>215</th>\n",
       "      <td>2020-09-30</td>\n",
       "      <td>1</td>\n",
       "    </tr>\n",
       "    <tr>\n",
       "      <th>216</th>\n",
       "      <td>2020-12-30</td>\n",
       "      <td>1</td>\n",
       "    </tr>\n",
       "    <tr>\n",
       "      <th>217</th>\n",
       "      <td>2021-01-02</td>\n",
       "      <td>1</td>\n",
       "    </tr>\n",
       "  </tbody>\n",
       "</table>\n",
       "<p>218 rows × 2 columns</p>\n",
       "</div>"
      ],
      "text/plain": [
       "           date  offers\n",
       "0    2021-01-20      18\n",
       "1    2020-12-17      16\n",
       "2    2021-01-13      15\n",
       "3    2020-12-16      15\n",
       "4    2020-12-02      15\n",
       "..          ...     ...\n",
       "213  2021-05-30       1\n",
       "214  2021-06-02       1\n",
       "215  2020-09-30       1\n",
       "216  2020-12-30       1\n",
       "217  2021-01-02       1\n",
       "\n",
       "[218 rows x 2 columns]"
      ]
     },
     "execution_count": 59,
     "metadata": {},
     "output_type": "execute_result"
    }
   ],
   "source": [
    "uk_after = pd.DataFrame({'date':new.keys(),'offers':new.values()})\n",
    "uk_after"
   ]
  },
  {
   "cell_type": "code",
   "execution_count": 60,
   "id": "01f61fa9",
   "metadata": {},
   "outputs": [],
   "source": [
    "uk_after['date'] = pd.to_datetime(uk_after['date'])"
   ]
  },
  {
   "cell_type": "code",
   "execution_count": 61,
   "id": "5c9e2e86",
   "metadata": {},
   "outputs": [],
   "source": [
    "uk_after['year'] = uk_after['date'].apply(lambda x: x.strftime('%Y'))"
   ]
  },
  {
   "cell_type": "code",
   "execution_count": 62,
   "id": "a5f5a55e",
   "metadata": {},
   "outputs": [
    {
     "data": {
      "text/plain": [
       "0      2021\n",
       "1      2020\n",
       "2      2021\n",
       "3      2020\n",
       "4      2020\n",
       "       ... \n",
       "213    2021\n",
       "214    2021\n",
       "215    2020\n",
       "216    2020\n",
       "217    2021\n",
       "Name: year, Length: 218, dtype: object"
      ]
     },
     "execution_count": 62,
     "metadata": {},
     "output_type": "execute_result"
    }
   ],
   "source": [
    "uk_after['year']"
   ]
  },
  {
   "cell_type": "code",
   "execution_count": 63,
   "id": "069b4e53",
   "metadata": {},
   "outputs": [
    {
     "data": {
      "text/html": [
       "<div>\n",
       "<style scoped>\n",
       "    .dataframe tbody tr th:only-of-type {\n",
       "        vertical-align: middle;\n",
       "    }\n",
       "\n",
       "    .dataframe tbody tr th {\n",
       "        vertical-align: top;\n",
       "    }\n",
       "\n",
       "    .dataframe thead th {\n",
       "        text-align: right;\n",
       "    }\n",
       "</style>\n",
       "<table border=\"1\" class=\"dataframe\">\n",
       "  <thead>\n",
       "    <tr style=\"text-align: right;\">\n",
       "      <th></th>\n",
       "      <th>date</th>\n",
       "      <th>offers</th>\n",
       "      <th>year</th>\n",
       "    </tr>\n",
       "  </thead>\n",
       "  <tbody>\n",
       "    <tr>\n",
       "      <th>0</th>\n",
       "      <td>2021-01-20</td>\n",
       "      <td>18</td>\n",
       "      <td>2021</td>\n",
       "    </tr>\n",
       "    <tr>\n",
       "      <th>1</th>\n",
       "      <td>2020-12-17</td>\n",
       "      <td>16</td>\n",
       "      <td>2020</td>\n",
       "    </tr>\n",
       "    <tr>\n",
       "      <th>2</th>\n",
       "      <td>2021-01-13</td>\n",
       "      <td>15</td>\n",
       "      <td>2021</td>\n",
       "    </tr>\n",
       "    <tr>\n",
       "      <th>3</th>\n",
       "      <td>2020-12-16</td>\n",
       "      <td>15</td>\n",
       "      <td>2020</td>\n",
       "    </tr>\n",
       "    <tr>\n",
       "      <th>4</th>\n",
       "      <td>2020-12-02</td>\n",
       "      <td>15</td>\n",
       "      <td>2020</td>\n",
       "    </tr>\n",
       "    <tr>\n",
       "      <th>...</th>\n",
       "      <td>...</td>\n",
       "      <td>...</td>\n",
       "      <td>...</td>\n",
       "    </tr>\n",
       "    <tr>\n",
       "      <th>213</th>\n",
       "      <td>2021-05-30</td>\n",
       "      <td>1</td>\n",
       "      <td>2021</td>\n",
       "    </tr>\n",
       "    <tr>\n",
       "      <th>214</th>\n",
       "      <td>2021-06-02</td>\n",
       "      <td>1</td>\n",
       "      <td>2021</td>\n",
       "    </tr>\n",
       "    <tr>\n",
       "      <th>215</th>\n",
       "      <td>2020-09-30</td>\n",
       "      <td>1</td>\n",
       "      <td>2020</td>\n",
       "    </tr>\n",
       "    <tr>\n",
       "      <th>216</th>\n",
       "      <td>2020-12-30</td>\n",
       "      <td>1</td>\n",
       "      <td>2020</td>\n",
       "    </tr>\n",
       "    <tr>\n",
       "      <th>217</th>\n",
       "      <td>2021-01-02</td>\n",
       "      <td>1</td>\n",
       "      <td>2021</td>\n",
       "    </tr>\n",
       "  </tbody>\n",
       "</table>\n",
       "<p>218 rows × 3 columns</p>\n",
       "</div>"
      ],
      "text/plain": [
       "          date  offers  year\n",
       "0   2021-01-20      18  2021\n",
       "1   2020-12-17      16  2020\n",
       "2   2021-01-13      15  2021\n",
       "3   2020-12-16      15  2020\n",
       "4   2020-12-02      15  2020\n",
       "..         ...     ...   ...\n",
       "213 2021-05-30       1  2021\n",
       "214 2021-06-02       1  2021\n",
       "215 2020-09-30       1  2020\n",
       "216 2020-12-30       1  2020\n",
       "217 2021-01-02       1  2021\n",
       "\n",
       "[218 rows x 3 columns]"
      ]
     },
     "execution_count": 63,
     "metadata": {},
     "output_type": "execute_result"
    }
   ],
   "source": [
    "uk_after"
   ]
  },
  {
   "cell_type": "code",
   "execution_count": 64,
   "id": "6825d256",
   "metadata": {},
   "outputs": [],
   "source": [
    "uk_after.to_csv('uk_after_offers_for_calender.csv')"
   ]
  },
  {
   "cell_type": "markdown",
   "id": "093c4dbe",
   "metadata": {},
   "source": [
    "## visualize data of UK"
   ]
  },
  {
   "cell_type": "code",
   "execution_count": 65,
   "id": "c4ecfa92",
   "metadata": {},
   "outputs": [],
   "source": [
    "# import data\n",
    "df = pd.read_csv('uk_after_offers_for_calender.csv',parse_dates=['date'])\n",
    "df.set_index('date', inplace=True)"
   ]
  },
  {
   "cell_type": "code",
   "execution_count": 66,
   "id": "bce62992",
   "metadata": {},
   "outputs": [],
   "source": [
    "df.index = pd.to_datetime(df.index)\n",
    "df = df.sort_index()"
   ]
  },
  {
   "cell_type": "code",
   "execution_count": 67,
   "id": "6a87fca4",
   "metadata": {},
   "outputs": [
    {
     "name": "stderr",
     "output_type": "stream",
     "text": [
      "<ipython-input-67-1e949567b836>:1: FutureWarning: Indexing a DataFrame with a datetimelike index using a single string to slice the rows, like `frame[string]`, is deprecated and will be removed in a future version. Use `frame.loc[string]` instead.\n",
      "  df_sub = df['2020']\n"
     ]
    }
   ],
   "source": [
    "df_sub = df['2020']"
   ]
  },
  {
   "cell_type": "code",
   "execution_count": 68,
   "id": "b2aed6cb",
   "metadata": {
    "scrolled": true
   },
   "outputs": [
    {
     "data": {
      "text/plain": [
       "<matplotlib.colorbar.Colorbar at 0x7f978ba271f0>"
      ]
     },
     "execution_count": 68,
     "metadata": {},
     "output_type": "execute_result"
    },
    {
     "data": {
      "image/png": "[encoded data removed]",
      "text/plain": [
       "<Figure size 1080x720 with 3 Axes>"
      ]
     },
     "metadata": {
      "needs_background": "light"
     },
     "output_type": "display_data"
    }
   ],
   "source": [
    "fig,ax=calmap.calendarplot(df['offers'],\n",
    "                           fig_kws={'figsize': (15,10)}, \n",
    "                           #cmap= 'YlGn',\n",
    "                           #cmap= 'seismic',\n",
    "                           cmap = 'bwr',\n",
    "                           yearlabel_kws={'color':'black', 'fontsize':18}, \n",
    "                           subplot_kws={'title':'2020.9 - 2021.8 : England'},\n",
    "                          #linewidth=0\n",
    "                          )\n",
    "\n",
    "fig.colorbar(ax[0].get_children()[1], ax=ax.ravel().tolist(),orientation='horizontal')"
   ]
  },
  {
   "cell_type": "markdown",
   "id": "06e1efea",
   "metadata": {},
   "source": [
    "## extract data of HK"
   ]
  },
  {
   "cell_type": "code",
   "execution_count": 69,
   "id": "bf09908d",
   "metadata": {},
   "outputs": [
    {
     "name": "stderr",
     "output_type": "stream",
     "text": [
      "/Users/hujiaying/opt/anaconda3/lib/python3.8/site-packages/IPython/core/interactiveshell.py:3165: DtypeWarning: Columns (6) have mixed types.Specify dtype option on import or set low_memory=False.\n",
      "  has_raised = await self.run_ast_nodes(code_ast.body, cell_name,\n"
     ]
    }
   ],
   "source": [
    "import pandas as pd\n",
    "df = pd.read_csv('index_new_time.csv')"
   ]
  },
  {
   "cell_type": "code",
   "execution_count": 71,
   "id": "7fc062be",
   "metadata": {},
   "outputs": [],
   "source": [
    "source = df[\n",
    "    (df['countries'] == '香港')             &  \n",
    "    \n",
    "    (   (   (df['time_year'] == 2020) & \n",
    "            ((df['time_month'] >= 9) & \n",
    "            (df['time_month'] <= 12))   )  |\n",
    "        (   (df['time_year'] == 2021) & \n",
    "            ((df['time_month'] >= 1) & \n",
    "            (df['time_month'] <= 8))    )  )\n",
    "\n",
    "]"
   ]
  },
  {
   "cell_type": "code",
   "execution_count": 72,
   "id": "a8cbadd1",
   "metadata": {},
   "outputs": [
    {
     "name": "stderr",
     "output_type": "stream",
     "text": [
      "<ipython-input-72-642e7f235d29>:2: SettingWithCopyWarning: \n",
      "A value is trying to be set on a copy of a slice from a DataFrame.\n",
      "Try using .loc[row_indexer,col_indexer] = value instead\n",
      "\n",
      "See the caveats in the documentation: https://pandas.pydata.org/pandas-docs/stable/user_guide/indexing.html#returning-a-view-versus-a-copy\n",
      "  source['notice_time']=pd.to_datetime(source['notice_time'],unit='s')\n"
     ]
    },
    {
     "data": {
      "text/plain": [
       "105     2021-08-30 16:00:00\n",
       "106     2021-08-30 16:00:00\n",
       "142     2021-06-06 16:00:00\n",
       "157     2021-04-09 16:00:00\n",
       "160     2021-01-19 16:00:00\n",
       "                ...        \n",
       "33768   2020-11-03 16:00:00\n",
       "33814   2020-10-22 16:00:00\n",
       "33859   2020-10-08 16:00:00\n",
       "33892   2020-09-25 16:00:00\n",
       "33893   2020-09-25 16:00:00\n",
       "Name: notice_time, Length: 961, dtype: datetime64[ns]"
      ]
     },
     "execution_count": 72,
     "metadata": {},
     "output_type": "execute_result"
    }
   ],
   "source": [
    "import time\n",
    "source['notice_time']=pd.to_datetime(source['notice_time'],unit='s')\n",
    "source['notice_time']"
   ]
  },
  {
   "cell_type": "code",
   "execution_count": 73,
   "id": "db5ae27b",
   "metadata": {},
   "outputs": [
    {
     "name": "stderr",
     "output_type": "stream",
     "text": [
      "<ipython-input-73-a5edf7382907>:1: SettingWithCopyWarning: \n",
      "A value is trying to be set on a copy of a slice from a DataFrame.\n",
      "Try using .loc[row_indexer,col_indexer] = value instead\n",
      "\n",
      "See the caveats in the documentation: https://pandas.pydata.org/pandas-docs/stable/user_guide/indexing.html#returning-a-view-versus-a-copy\n",
      "  source['notice_time'] = source['notice_time'].apply(lambda x: x.strftime('%Y-%m-%d'))\n"
     ]
    },
    {
     "data": {
      "text/plain": [
       "105      2021-08-30\n",
       "106      2021-08-30\n",
       "142      2021-06-06\n",
       "157      2021-04-09\n",
       "160      2021-01-19\n",
       "            ...    \n",
       "33768    2020-11-03\n",
       "33814    2020-10-22\n",
       "33859    2020-10-08\n",
       "33892    2020-09-25\n",
       "33893    2020-09-25\n",
       "Name: notice_time, Length: 961, dtype: object"
      ]
     },
     "execution_count": 73,
     "metadata": {},
     "output_type": "execute_result"
    }
   ],
   "source": [
    "source['notice_time'] = source['notice_time'].apply(lambda x: x.strftime('%Y-%m-%d'))\n",
    "source['notice_time']"
   ]
  },
  {
   "cell_type": "code",
   "execution_count": 74,
   "id": "5e1eae25",
   "metadata": {},
   "outputs": [],
   "source": [
    "new = source[(source['countries'] == '香港')\n",
    "      ]['notice_time'].value_counts()   #这里是所有类型的offer通知"
   ]
  },
  {
   "cell_type": "code",
   "execution_count": 75,
   "id": "95066e7b",
   "metadata": {},
   "outputs": [],
   "source": [
    "new = new.to_dict()"
   ]
  },
  {
   "cell_type": "code",
   "execution_count": 76,
   "id": "bfeb0551",
   "metadata": {},
   "outputs": [
    {
     "data": {
      "text/html": [
       "<div>\n",
       "<style scoped>\n",
       "    .dataframe tbody tr th:only-of-type {\n",
       "        vertical-align: middle;\n",
       "    }\n",
       "\n",
       "    .dataframe tbody tr th {\n",
       "        vertical-align: top;\n",
       "    }\n",
       "\n",
       "    .dataframe thead th {\n",
       "        text-align: right;\n",
       "    }\n",
       "</style>\n",
       "<table border=\"1\" class=\"dataframe\">\n",
       "  <thead>\n",
       "    <tr style=\"text-align: right;\">\n",
       "      <th></th>\n",
       "      <th>date</th>\n",
       "      <th>offers</th>\n",
       "    </tr>\n",
       "  </thead>\n",
       "  <tbody>\n",
       "    <tr>\n",
       "      <th>0</th>\n",
       "      <td>2020-11-12</td>\n",
       "      <td>31</td>\n",
       "    </tr>\n",
       "    <tr>\n",
       "      <th>1</th>\n",
       "      <td>2021-03-04</td>\n",
       "      <td>26</td>\n",
       "    </tr>\n",
       "    <tr>\n",
       "      <th>2</th>\n",
       "      <td>2021-01-14</td>\n",
       "      <td>21</td>\n",
       "    </tr>\n",
       "    <tr>\n",
       "      <th>3</th>\n",
       "      <td>2021-01-26</td>\n",
       "      <td>17</td>\n",
       "    </tr>\n",
       "    <tr>\n",
       "      <th>4</th>\n",
       "      <td>2020-12-20</td>\n",
       "      <td>16</td>\n",
       "    </tr>\n",
       "    <tr>\n",
       "      <th>...</th>\n",
       "      <td>...</td>\n",
       "      <td>...</td>\n",
       "    </tr>\n",
       "    <tr>\n",
       "      <th>192</th>\n",
       "      <td>2020-11-16</td>\n",
       "      <td>1</td>\n",
       "    </tr>\n",
       "    <tr>\n",
       "      <th>193</th>\n",
       "      <td>2020-12-19</td>\n",
       "      <td>1</td>\n",
       "    </tr>\n",
       "    <tr>\n",
       "      <th>194</th>\n",
       "      <td>2020-10-22</td>\n",
       "      <td>1</td>\n",
       "    </tr>\n",
       "    <tr>\n",
       "      <th>195</th>\n",
       "      <td>2021-05-13</td>\n",
       "      <td>1</td>\n",
       "    </tr>\n",
       "    <tr>\n",
       "      <th>196</th>\n",
       "      <td>2020-11-14</td>\n",
       "      <td>1</td>\n",
       "    </tr>\n",
       "  </tbody>\n",
       "</table>\n",
       "<p>197 rows × 2 columns</p>\n",
       "</div>"
      ],
      "text/plain": [
       "           date  offers\n",
       "0    2020-11-12      31\n",
       "1    2021-03-04      26\n",
       "2    2021-01-14      21\n",
       "3    2021-01-26      17\n",
       "4    2020-12-20      16\n",
       "..          ...     ...\n",
       "192  2020-11-16       1\n",
       "193  2020-12-19       1\n",
       "194  2020-10-22       1\n",
       "195  2021-05-13       1\n",
       "196  2020-11-14       1\n",
       "\n",
       "[197 rows x 2 columns]"
      ]
     },
     "execution_count": 76,
     "metadata": {},
     "output_type": "execute_result"
    }
   ],
   "source": [
    "hk_after = pd.DataFrame({'date':new.keys(),'offers':new.values()})\n",
    "hk_after"
   ]
  },
  {
   "cell_type": "code",
   "execution_count": 77,
   "id": "fdeada17",
   "metadata": {},
   "outputs": [],
   "source": [
    "hk_after['date'] = pd.to_datetime(hk_after['date'])"
   ]
  },
  {
   "cell_type": "code",
   "execution_count": 78,
   "id": "0e035370",
   "metadata": {},
   "outputs": [],
   "source": [
    "hk_after['year'] = hk_after['date'].apply(lambda x: x.strftime('%Y'))"
   ]
  },
  {
   "cell_type": "code",
   "execution_count": 79,
   "id": "10573a37",
   "metadata": {},
   "outputs": [
    {
     "data": {
      "text/plain": [
       "0      2020\n",
       "1      2021\n",
       "2      2021\n",
       "3      2021\n",
       "4      2020\n",
       "       ... \n",
       "192    2020\n",
       "193    2020\n",
       "194    2020\n",
       "195    2021\n",
       "196    2020\n",
       "Name: year, Length: 197, dtype: object"
      ]
     },
     "execution_count": 79,
     "metadata": {},
     "output_type": "execute_result"
    }
   ],
   "source": [
    "hk_after['year']"
   ]
  },
  {
   "cell_type": "code",
   "execution_count": 80,
   "id": "1042183a",
   "metadata": {},
   "outputs": [
    {
     "data": {
      "text/html": [
       "<div>\n",
       "<style scoped>\n",
       "    .dataframe tbody tr th:only-of-type {\n",
       "        vertical-align: middle;\n",
       "    }\n",
       "\n",
       "    .dataframe tbody tr th {\n",
       "        vertical-align: top;\n",
       "    }\n",
       "\n",
       "    .dataframe thead th {\n",
       "        text-align: right;\n",
       "    }\n",
       "</style>\n",
       "<table border=\"1\" class=\"dataframe\">\n",
       "  <thead>\n",
       "    <tr style=\"text-align: right;\">\n",
       "      <th></th>\n",
       "      <th>date</th>\n",
       "      <th>offers</th>\n",
       "      <th>year</th>\n",
       "    </tr>\n",
       "  </thead>\n",
       "  <tbody>\n",
       "    <tr>\n",
       "      <th>0</th>\n",
       "      <td>2020-11-12</td>\n",
       "      <td>31</td>\n",
       "      <td>2020</td>\n",
       "    </tr>\n",
       "    <tr>\n",
       "      <th>1</th>\n",
       "      <td>2021-03-04</td>\n",
       "      <td>26</td>\n",
       "      <td>2021</td>\n",
       "    </tr>\n",
       "    <tr>\n",
       "      <th>2</th>\n",
       "      <td>2021-01-14</td>\n",
       "      <td>21</td>\n",
       "      <td>2021</td>\n",
       "    </tr>\n",
       "    <tr>\n",
       "      <th>3</th>\n",
       "      <td>2021-01-26</td>\n",
       "      <td>17</td>\n",
       "      <td>2021</td>\n",
       "    </tr>\n",
       "    <tr>\n",
       "      <th>4</th>\n",
       "      <td>2020-12-20</td>\n",
       "      <td>16</td>\n",
       "      <td>2020</td>\n",
       "    </tr>\n",
       "    <tr>\n",
       "      <th>...</th>\n",
       "      <td>...</td>\n",
       "      <td>...</td>\n",
       "      <td>...</td>\n",
       "    </tr>\n",
       "    <tr>\n",
       "      <th>192</th>\n",
       "      <td>2020-11-16</td>\n",
       "      <td>1</td>\n",
       "      <td>2020</td>\n",
       "    </tr>\n",
       "    <tr>\n",
       "      <th>193</th>\n",
       "      <td>2020-12-19</td>\n",
       "      <td>1</td>\n",
       "      <td>2020</td>\n",
       "    </tr>\n",
       "    <tr>\n",
       "      <th>194</th>\n",
       "      <td>2020-10-22</td>\n",
       "      <td>1</td>\n",
       "      <td>2020</td>\n",
       "    </tr>\n",
       "    <tr>\n",
       "      <th>195</th>\n",
       "      <td>2021-05-13</td>\n",
       "      <td>1</td>\n",
       "      <td>2021</td>\n",
       "    </tr>\n",
       "    <tr>\n",
       "      <th>196</th>\n",
       "      <td>2020-11-14</td>\n",
       "      <td>1</td>\n",
       "      <td>2020</td>\n",
       "    </tr>\n",
       "  </tbody>\n",
       "</table>\n",
       "<p>197 rows × 3 columns</p>\n",
       "</div>"
      ],
      "text/plain": [
       "          date  offers  year\n",
       "0   2020-11-12      31  2020\n",
       "1   2021-03-04      26  2021\n",
       "2   2021-01-14      21  2021\n",
       "3   2021-01-26      17  2021\n",
       "4   2020-12-20      16  2020\n",
       "..         ...     ...   ...\n",
       "192 2020-11-16       1  2020\n",
       "193 2020-12-19       1  2020\n",
       "194 2020-10-22       1  2020\n",
       "195 2021-05-13       1  2021\n",
       "196 2020-11-14       1  2020\n",
       "\n",
       "[197 rows x 3 columns]"
      ]
     },
     "execution_count": 80,
     "metadata": {},
     "output_type": "execute_result"
    }
   ],
   "source": [
    "hk_after"
   ]
  },
  {
   "cell_type": "code",
   "execution_count": 81,
   "id": "e7dcfc12",
   "metadata": {},
   "outputs": [],
   "source": [
    "hk_after.to_csv('hk_after_offers_for_calender.csv')"
   ]
  },
  {
   "cell_type": "markdown",
   "id": "cfb414b1",
   "metadata": {},
   "source": [
    "## visualize data of HK"
   ]
  },
  {
   "cell_type": "code",
   "execution_count": 82,
   "id": "bc8a30c8",
   "metadata": {},
   "outputs": [],
   "source": [
    "# import data\n",
    "df = pd.read_csv('hk_after_offers_for_calender.csv',parse_dates=['date'])\n",
    "df.set_index('date', inplace=True)"
   ]
  },
  {
   "cell_type": "code",
   "execution_count": 83,
   "id": "951ad68b",
   "metadata": {},
   "outputs": [],
   "source": [
    "df.index = pd.to_datetime(df.index)\n",
    "df = df.sort_index()"
   ]
  },
  {
   "cell_type": "code",
   "execution_count": 84,
   "id": "68563d02",
   "metadata": {},
   "outputs": [
    {
     "name": "stderr",
     "output_type": "stream",
     "text": [
      "<ipython-input-84-1e949567b836>:1: FutureWarning: Indexing a DataFrame with a datetimelike index using a single string to slice the rows, like `frame[string]`, is deprecated and will be removed in a future version. Use `frame.loc[string]` instead.\n",
      "  df_sub = df['2020']\n"
     ]
    }
   ],
   "source": [
    "df_sub = df['2020']"
   ]
  },
  {
   "cell_type": "code",
   "execution_count": 85,
   "id": "4e6b46e1",
   "metadata": {
    "scrolled": true
   },
   "outputs": [
    {
     "data": {
      "text/plain": [
       "<matplotlib.colorbar.Colorbar at 0x7f978b141310>"
      ]
     },
     "execution_count": 85,
     "metadata": {},
     "output_type": "execute_result"
    },
    {
     "data": {
      "image/png": "[encoded data removed]",
      "text/plain": [
       "<Figure size 1080x720 with 3 Axes>"
      ]
     },
     "metadata": {
      "needs_background": "light"
     },
     "output_type": "display_data"
    }
   ],
   "source": [
    "fig,ax=calmap.calendarplot(df['offers'],\n",
    "                           fig_kws={'figsize': (15,10)}, \n",
    "                           #cmap= 'YlGn',\n",
    "                           #cmap= 'seismic',\n",
    "                           cmap = 'bwr',\n",
    "                           yearlabel_kws={'color':'black', 'fontsize':18}, \n",
    "                           subplot_kws={'title':'2020.9 - 2021.8 : Hong Kong'},\n",
    "                          #linewidth=0\n",
    "                          )\n",
    "\n",
    "fig.colorbar(ax[0].get_children()[1], ax=ax.ravel().tolist(),orientation='horizontal')"
   ]
  },
  {
   "cell_type": "code",
   "execution_count": null,
   "id": "85c5efde",
   "metadata": {},
   "outputs": [],
   "source": []
  }
 ],
 "metadata": {
  "kernelspec": {
   "display_name": "Python 3",
   "language": "python",
   "name": "python3"
  },
  "language_info": {
   "codemirror_mode": {
    "name": "ipython",
    "version": 3
   },
   "file_extension": ".py",
   "mimetype": "text/x-python",
   "name": "python",
   "nbconvert_exporter": "python",
   "pygments_lexer": "ipython3",
   "version": "3.8.8"
  }
 },
 "nbformat": 4,
 "nbformat_minor": 5
}
